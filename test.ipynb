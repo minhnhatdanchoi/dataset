{
 "cells": [
  {
   "cell_type": "code",
   "id": "initial_id",
   "metadata": {
    "collapsed": true,
    "ExecuteTime": {
     "end_time": "2025-03-04T10:06:51.319362Z",
     "start_time": "2025-03-04T10:06:51.299394Z"
    }
   },
   "source": [
    "import ast\n",
    "import pandas as pd\n",
    "# Simulated CSV content (string representation of a list of dictionaries)\n",
    "# data_str = \"\"\"[{'project name': 'FCCL', 'customer': 'Japanese Customer', 'position': 'Operation Monitoring', 'responsibilities': 'Write document and guiline task. Monitoring the fluency of the system. Doing daily task & task that required the correct date to execute. Log ticket on Redmine when problems occurs. Daily report', 'technologies used': ['Redmine', 'MS Office', 'MS SQL']}, {'project name': 'Cong ty TNHH dich vu 1PAYVi dien tu Trumoney', 'customer': 'Vietnamese Customer', 'position': 'System operator', 'responsibilities': 'System management, Network Management, Email management', 'technologies used': ['Grafana', 'Jira', 'MS Office', 'MS SQL', 'Linux']}, {'project name': 'Cong ty Co phan dich vu truc tuyen -Vi dien tu Momo', 'customer': 'Vietnamese Customer', 'position': 'Sale Staff', 'responsibilities': \"Manage systems with retailer store. Co-operate with partner to run promote/events. Manage Momo's visible partners\", 'technologies used': ['MS Office']}]\"\"\"\n",
    "df = pd.read_csv('program.csv')\n",
    "data_str = df.iloc[0]['Projects Experience']\n",
    "# Convert the string to a list of dictionaries\n",
    "projects = ast.literal_eval(data_str)\n",
    "\n",
    "cypher_queries = []\n",
    "\n",
    "for project in projects:\n",
    "    project_name = project.get('project name', '').replace(\"'\", \"\\\\'\")\n",
    "    customer_name = project.get('customer', '').replace(\"'\", \"\\\\'\")\n",
    "    position = project.get('position', '').replace(\"'\", \"\\\\'\")\n",
    "    responsibilities = project.get('responsibilities', '').replace(\"'\", \"\\\\'\")\n",
    "    technologies = project.get('technologies used', [])\n",
    "\n",
    "    # Create a string representation of the technology list for the Cypher query\n",
    "    tech_list = \"[\" + \", \".join(f\"'{tech}'\" for tech in technologies) + \"]\"\n",
    "\n",
    "    query = (\n",
    "        f\"WITH {tech_list} AS techList\\n\"\n",
    "        f\"MERGE (p:Project {{name: '{project_name}'}})\\n\"\n",
    "        f\"SET p.position = '{position}', p.responsibilities = '{responsibilities}'\\n\"\n",
    "        f\"MERGE (c:Customer {{name: '{customer_name}'}})\\n\"\n",
    "        f\"MERGE (p)-[:FOR_CUSTOMER]->(c)\\n\"\n",
    "        f\"WITH WITH p,techList\\n\"\n",
    "        f\"UNWIND techList AS tech\\n\"\n",
    "        f\"MERGE (t:Technology {{name: tech}})\\n\"\n",
    "        f\"MERGE (p)-[:USES_TECHNOLOGY]->(t)\\n\"\n",
    "    )\n",
    "    cypher_queries.append(query)\n",
    "\n",
    "# Print the generated Cypher queries\n",
    "for q in cypher_queries:\n",
    "    print(q)\n"
   ],
   "outputs": [
    {
     "name": "stdout",
     "output_type": "stream",
     "text": [
      "WITH ['Redmine', 'MS Office', 'MS SQL'] AS techList\n",
      "MERGE (p:Project {name: 'FCCL'})\n",
      "SET p.position = 'Operation Monitoring', p.responsibilities = 'Write document and guiline task. Monitoring the fluency of the system. Doing daily task & task that required the correct date to execute. Log ticket on Redmine when problems occurs. Daily report'\n",
      "MERGE (c:Customer {name: 'Japanese Customer'})\n",
      "MERGE (p)-[:FOR_CUSTOMER]->(c)\n",
      "WITH WITH p,techList\n",
      "UNWIND techList AS tech\n",
      "MERGE (t:Technology {name: tech})\n",
      "MERGE (p)-[:USES_TECHNOLOGY]->(t)\n",
      "\n",
      "WITH ['Grafana', 'Jira', 'MS Office', 'MS SQL', 'Linux'] AS techList\n",
      "MERGE (p:Project {name: 'Cong ty TNHH dich vu 1PAYVi dien tu Trumoney'})\n",
      "SET p.position = 'System operator', p.responsibilities = 'System management, Network Management, Email management'\n",
      "MERGE (c:Customer {name: 'Vietnamese Customer'})\n",
      "MERGE (p)-[:FOR_CUSTOMER]->(c)\n",
      "WITH WITH p,techList\n",
      "UNWIND techList AS tech\n",
      "MERGE (t:Technology {name: tech})\n",
      "MERGE (p)-[:USES_TECHNOLOGY]->(t)\n",
      "\n",
      "WITH ['MS Office'] AS techList\n",
      "MERGE (p:Project {name: 'Cong ty Co phan dich vu truc tuyen -Vi dien tu Momo'})\n",
      "SET p.position = 'Sale Staff', p.responsibilities = 'Manage systems with retailer store. Co-operate with partner to run promote/events. Manage Momo\\'s visible partners'\n",
      "MERGE (c:Customer {name: 'Vietnamese Customer'})\n",
      "MERGE (p)-[:FOR_CUSTOMER]->(c)\n",
      "WITH WITH p,techList\n",
      "UNWIND techList AS tech\n",
      "MERGE (t:Technology {name: tech})\n",
      "MERGE (p)-[:USES_TECHNOLOGY]->(t)\n",
      "\n"
     ]
    }
   ],
   "execution_count": 6
  }
 ],
 "metadata": {
  "kernelspec": {
   "display_name": "Python 3",
   "language": "python",
   "name": "python3"
  },
  "language_info": {
   "codemirror_mode": {
    "name": "ipython",
    "version": 2
   },
   "file_extension": ".py",
   "mimetype": "text/x-python",
   "name": "python",
   "nbconvert_exporter": "python",
   "pygments_lexer": "ipython2",
   "version": "2.7.6"
  }
 },
 "nbformat": 4,
 "nbformat_minor": 5
}
