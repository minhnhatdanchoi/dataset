{
 "cells": [
  {
   "cell_type": "code",
   "execution_count": 13,
   "metadata": {},
   "outputs": [],
   "source": [
    "from py2neo import Graph\n",
    "import pandas as pd\n",
    "\n",
    "# 1️⃣ --- Kết nối tới Neo4j ---\n",
    "graph = Graph(\"neo4j+s://b0276d86.databases.neo4j.io\", auth=(\"neo4j\", \"_IefyDowcWvSyZrs9v0bIDdJD5rP51rINpoEG-UrLp8\"))"
   ]
  },
  {
   "cell_type": "code",
   "execution_count": 14,
   "metadata": {},
   "outputs": [
    {
     "name": "stdout",
     "output_type": "stream",
     "text": [
      "Danh sách ứng viên sử dụng ngôn ngữ English:\n",
      "         name\n",
      "0  Chu Ngoc M\n"
     ]
    },
    {
     "name": "stderr",
     "output_type": "stream",
     "text": [
      "C:\\Users\\Chieu\\AppData\\Local\\Temp\\ipykernel_17016\\3046537366.py:12: FutureWarning: DataFrame.applymap has been deprecated. Use DataFrame.map instead.\n",
      "  df = df.applymap(lambda x: [] if isinstance(x, float) and pd.isna(x) else x)\n"
     ]
    }
   ],
   "source": [
    "# 2️⃣ --- Truy vấn danh sách ứng viên sử dụng ngôn ngữ \"English\" ---\n",
    "query = \"\"\"\n",
    "MATCH (e:Employee)-[:LANGUAGE]->(l:Language {name: 'English'})\n",
    "MATCH (e)-[:HAS_LANGUAGE_LEVEL]->(t3:Level {name:'IELTS 6.5, Toeic: 785'})\n",
    "RETURN e.name AS name\n",
    "\"\"\"\n",
    "df = pd.DataFrame(graph.run(query).data())\n",
    "print(\"Danh sách ứng viên sử dụng ngôn ngữ English:\")\n",
    "print(df)\n",
    "\n",
    "# Xử lý NaN trong DataFrame\n",
    "df = df.applymap(lambda x: [] if isinstance(x, float) and pd.isna(x) else x)"
   ]
  },
  {
   "cell_type": "code",
   "execution_count": 15,
   "metadata": {},
   "outputs": [
    {
     "name": "stdout",
     "output_type": "stream",
     "text": [
      "\n",
      "Danh sách ứng viên đã lọc:\n",
      "[{'id': 'Chu Ngoc M', 'name': 'Chu Ngoc M'}]\n"
     ]
    }
   ],
   "source": [
    "# 3️⃣ --- Tạo danh sách ứng viên đã lọc ---\n",
    "filtered_candidates = [{'id': row['name'], 'name': row['name']} for row in df.to_dict('records')]\n",
    "print(\"\\nDanh sách ứng viên đã lọc:\")\n",
    "print(filtered_candidates)"
   ]
  },
  {
   "cell_type": "code",
   "execution_count": 16,
   "metadata": {},
   "outputs": [],
   "source": [
    "def build_candidate_tree(graph, candidate_name):\n",
    "    \"\"\"\n",
    "    Xây dựng cây phân cấp từ node gốc là ứng viên.\n",
    "    Chỉ xét các node liên kết trực tiếp với ứng viên.\n",
    "    Nếu một node đã là con trong nhánh khác thì không xuất hiện lại dưới ứng viên.\n",
    "    \"\"\"\n",
    "\n",
    "    # Bước 1: Lấy danh sách các node liên kết trực tiếp với ứng viên\n",
    "    query_direct_nodes = f\"\"\"\n",
    "    MATCH (e:Employee {{name: '{candidate_name}'}})-[*1]->(n)\n",
    "    WHERE NOT n:Employee\n",
    "    RETURN DISTINCT n.name AS node_name\n",
    "    \"\"\"\n",
    "    result_direct_nodes = graph.run(query_direct_nodes).data()\n",
    "    direct_nodes = [row['node_name'] for row in result_direct_nodes if row['node_name'] is not None]\n",
    "\n",
    "    # Bước 2: Truy tất cả các quan hệ cha-con chỉ trong tập direct_nodes\n",
    "    query_relations = f\"\"\"\n",
    "    MATCH (parent)-[*1]->(child)\n",
    "    WHERE parent.name IN {direct_nodes} AND child.name IN {direct_nodes}\n",
    "    RETURN DISTINCT parent.name AS parent_name, child.name AS child_name\n",
    "    \"\"\"\n",
    "    result_relations = graph.run(query_relations).data()\n",
    "\n",
    "    # Bước 3: Xây dict quan hệ cha → list con\n",
    "    relations = {}\n",
    "    for row in result_relations:\n",
    "        parent = row['parent_name']\n",
    "        child = row['child_name']\n",
    "        if parent not in relations:\n",
    "            relations[parent] = []\n",
    "        relations[parent].append(child)\n",
    "\n",
    "    # Bước 4: Hàm đệ quy xây cây con từ 1 node\n",
    "    def build_subtree(node, visited):\n",
    "        if node in visited:\n",
    "            return {}\n",
    "        visited.add(node)\n",
    "        children = relations.get(node, [])\n",
    "        return {child: build_subtree(child, visited) for child in children}\n",
    "\n",
    "    # Bước 5: Xây tất cả các cây con từ các node trực tiếp\n",
    "    subtree_map = {}\n",
    "    for node in direct_nodes:\n",
    "        subtree_map[node] = build_subtree(node, set())\n",
    "\n",
    "    # Bước 6: Tìm các node đã là cháu trong cây con → loại khỏi cấp 1\n",
    "    all_nested_nodes = set()\n",
    "    def collect_all_nodes(subtree):\n",
    "        for k, v in subtree.items():\n",
    "            all_nested_nodes.add(k)\n",
    "            if isinstance(v, dict):\n",
    "                collect_all_nodes(v)\n",
    "\n",
    "    for tree in subtree_map.values():\n",
    "        collect_all_nodes(tree)\n",
    "\n",
    "    # Bước 7: Chỉ giữ các node trực tiếp mà không nằm trong cây con khác\n",
    "    final_subtree = {}\n",
    "    for node, tree in subtree_map.items():\n",
    "        if node not in all_nested_nodes:\n",
    "            final_subtree[node] = tree\n",
    "\n",
    "    # Bước 8: Gắn cây vào gốc ứng viên\n",
    "    return {candidate_name: final_subtree}\n"
   ]
  },
  {
   "cell_type": "code",
   "execution_count": 17,
   "metadata": {},
   "outputs": [],
   "source": [
    "def print_tree(tree, indent=0):\n",
    "    \"\"\"In cây quan hệ với cấu trúc phân cấp.\"\"\"\n",
    "    for key, value in tree.items():\n",
    "        print(\" \" * indent + f\"- {key}\")\n",
    "        if isinstance(value, dict):\n",
    "            print_tree(value, indent + 4)"
   ]
  },
  {
   "cell_type": "code",
   "execution_count": 18,
   "metadata": {},
   "outputs": [
    {
     "name": "stdout",
     "output_type": "stream",
     "text": [
      "\n",
      "Cây quan hệ của từng ứng viên:\n",
      "\n",
      "Ứng viên: Chu Ngoc M\n",
      "- Chu Ngoc M\n",
      "    - Experienced in working with microservices\n",
      "    - Experienced in Software Engineering and DevOps workflows\n",
      "    - 3 years of experience in the Software Engineering\n",
      "    - Ruby Developer\n",
      "        - Docker\n",
      "    - USMH Monitoring\n",
      "        - PostgresSQL\n",
      "        - CloudWatch\n",
      "    - SPPL Microservices platform\n",
      "    - Azure\n",
      "    - AWS\n",
      "    - Linux\n",
      "    - Windows\n",
      "    - AWS CloudFormation\n",
      "    - Grafana\n",
      "    - Prometheus\n",
      "    - Bash Script\n",
      "    - English\n",
      "        - IELTS 6.5, Toeic: 785\n",
      "    - Vietnamese\n",
      "        - Native\n",
      "    - 4 year\n",
      "    - Viet Nam\n"
     ]
    }
   ],
   "source": [
    "# Xây dựng cây quan hệ cho từng ứng viên\n",
    "for candidate in filtered_candidates:\n",
    "    candidate['tree'] = build_candidate_tree(graph, candidate['name'])\n",
    "def print_full_tree(tree, indent=0):\n",
    "    \"\"\"In toàn bộ cây quan hệ, không rút gọn.\"\"\"\n",
    "    for key, value in tree.items():\n",
    "        print(\" \" * indent + f\"- {key}\")\n",
    "        if isinstance(value, dict):\n",
    "            print_full_tree(value, indent + 4)\n",
    "# In cây quan hệ của từng ứng viên\n",
    "print(\"\\nCây quan hệ của từng ứng viên:\")\n",
    "for candidate in filtered_candidates:\n",
    "    print(f\"\\nỨng viên: {candidate['name']}\")\n",
    "    print_tree(candidate['tree'])"
   ]
  },
  {
   "cell_type": "code",
   "execution_count": 19,
   "metadata": {},
   "outputs": [],
   "source": [
    "def apply_node_ranking_with_hierarchy(filtered_candidates, critical_nodes):\n",
    "    \"\"\"\n",
    "    Tính điểm cho từng ứng viên dựa trên critical nodes và cây quan hệ.\n",
    "    \"\"\"\n",
    "    all_candidate_names = {candidate['name'] for candidate in filtered_candidates}  # Tập hợp tên tất cả ứng viên\n",
    "\n",
    "    for candidate in filtered_candidates:\n",
    "        tree = candidate['tree']\n",
    "        \n",
    "        # Tính điểm dựa trên critical nodes và quan hệ cha-con\n",
    "        total_score = 0\n",
    "        visited_nodes = set()\n",
    "\n",
    "        def traverse_tree(node, subtree, depth=1):\n",
    "            \"\"\"Duyệt cây để tính điểm.\"\"\"\n",
    "            nonlocal total_score\n",
    "            if node in visited_nodes:\n",
    "                return\n",
    "\n",
    "            if node in all_candidate_names:\n",
    "                # Bỏ qua tính điểm cho ứng viên nhưng vẫn duyệt con\n",
    "                for child, child_subtree in subtree.items():\n",
    "                    traverse_tree(child, child_subtree, depth + 1)\n",
    "                return\n",
    "\n",
    "            visited_nodes.add(node)\n",
    "\n",
    "            # Đánh trọng số\n",
    "            if node in critical_nodes:\n",
    "                total_score += 10  # Điểm cao nhất cho critical nodes\n",
    "                print(f\"Node '{node}' (critical) được tính 10 điểm.\")\n",
    "            elif any(child in critical_nodes for child in subtree.keys()):  # Node là cha trực tiếp của critical nodes\n",
    "                total_score += 3\n",
    "                print(f\"Node '{node}' (cha trực tiếp của critical node) được tính 3 điểm.\")\n",
    "            elif depth == 1:  # Node con trực tiếp\n",
    "                total_score += 5\n",
    "                print(f\"Node '{node}' (con trực tiếp) được tính 5 điểm.\")\n",
    "            else:  # Các node khác\n",
    "                total_score += 2\n",
    "                print(f\"Node '{node}' (khác) được tính 2 điểm.\")\n",
    "\n",
    "            # Duyệt các node con\n",
    "            for child, child_subtree in subtree.items():\n",
    "                traverse_tree(child, child_subtree, depth + 1)\n",
    "\n",
    "        # Bắt đầu duyệt từ node gốc (ứng viên)\n",
    "        print(f\"\\nDuyệt cây cho ứng viên: {candidate['name']}\")\n",
    "        traverse_tree(candidate['name'], tree[candidate['name']])\n",
    "\n",
    "        candidate['total_score'] = total_score\n",
    "\n",
    "    # Sắp xếp ứng viên theo điểm số\n",
    "    filtered_candidates.sort(key=lambda x: x['total_score'], reverse=True)\n",
    "    return filtered_candidates"
   ]
  },
  {
   "cell_type": "code",
   "execution_count": 20,
   "metadata": {},
   "outputs": [
    {
     "name": "stdout",
     "output_type": "stream",
     "text": [
      "\n",
      "Duyệt cây cho ứng viên: Chu Ngoc M\n",
      "Node 'Experienced in working with microservices' (khác) được tính 2 điểm.\n",
      "Node 'Experienced in Software Engineering and DevOps workflows' (khác) được tính 2 điểm.\n",
      "Node '3 years of experience in the Software Engineering' (khác) được tính 2 điểm.\n",
      "Node 'Ruby Developer' (khác) được tính 2 điểm.\n",
      "Node 'Docker' (khác) được tính 2 điểm.\n",
      "Node 'USMH Monitoring' (cha trực tiếp của critical node) được tính 3 điểm.\n",
      "Node 'PostgresSQL' (critical) được tính 10 điểm.\n",
      "Node 'CloudWatch' (khác) được tính 2 điểm.\n",
      "Node 'SPPL Microservices platform' (khác) được tính 2 điểm.\n",
      "Node 'Azure' (khác) được tính 2 điểm.\n",
      "Node 'AWS' (khác) được tính 2 điểm.\n",
      "Node 'Linux' (khác) được tính 2 điểm.\n",
      "Node 'Windows' (khác) được tính 2 điểm.\n",
      "Node 'AWS CloudFormation' (khác) được tính 2 điểm.\n",
      "Node 'Grafana' (khác) được tính 2 điểm.\n",
      "Node 'Prometheus' (khác) được tính 2 điểm.\n",
      "Node 'Bash Script' (khác) được tính 2 điểm.\n",
      "Node 'English' (cha trực tiếp của critical node) được tính 3 điểm.\n",
      "Node 'IELTS 6.5, Toeic: 785' (critical) được tính 10 điểm.\n",
      "Node 'Vietnamese' (khác) được tính 2 điểm.\n",
      "Node 'Native' (khác) được tính 2 điểm.\n",
      "Node '4 year' (khác) được tính 2 điểm.\n",
      "Node 'Viet Nam' (khác) được tính 2 điểm.\n",
      "\n",
      "Kết quả xếp hạng ứng viên:\n",
      "✅ Chu Ngoc M – Total Score: 64\n"
     ]
    }
   ],
   "source": [
    "# Danh sách critical nodes\n",
    "critical_nodes = ['IELTS 6.5, Toeic: 785', 'PostgresSQL']  # Thay đổi danh sách này nếu cần\n",
    "\n",
    "# Áp dụng hàm ranking\n",
    "ranked_candidates = apply_node_ranking_with_hierarchy(filtered_candidates, critical_nodes)\n",
    "\n",
    "# Hiển thị kết quả\n",
    "print(\"\\nKết quả xếp hạng ứng viên:\")\n",
    "for c in ranked_candidates:\n",
    "    print(f\"✅ {c['name']} – Total Score: {c['total_score']}\")"
   ]
  },
  {
   "cell_type": "code",
   "execution_count": 21,
   "metadata": {},
   "outputs": [],
   "source": [
    "for candidate in filtered_candidates:\n",
    "    name = candidate['name']\n",
    "    \n",
    "    query = f\"\"\"\n",
    "    MATCH (e:Employee {{name: '{name}'}})-[]->(n)\n",
    "    WHERE NOT n:Employee\n",
    "    RETURN COUNT(DISTINCT n) AS degree_score\n",
    "    \"\"\"\n",
    "    result = graph.run(query).data()\n",
    "    degree_score = result[0]['degree_score'] if result else 0\n",
    "\n",
    "    candidate['pagerank_score'] = degree_score  # không scale *100\n",
    "    candidate['total_score'] = 0.6 * candidate['total_score'] + 0.4 * degree_score\n"
   ]
  },
  {
   "cell_type": "code",
   "execution_count": 22,
   "metadata": {},
   "outputs": [
    {
     "name": "stdout",
     "output_type": "stream",
     "text": [
      "\n",
      "🔥 Kết quả xếp hạng ứng viên (tự tính degree-score thay thế PageRank):\n",
      "✅ Chu Ngoc M           | Tree Score:  80.67 | Degree Score:     25 | Total Score:   48.4\n"
     ]
    }
   ],
   "source": [
    "print(\"\\n🔥 Kết quả xếp hạng ứng viên (tự tính degree-score thay thế PageRank):\")\n",
    "filtered_candidates.sort(key=lambda x: x['total_score'], reverse=True)\n",
    "\n",
    "for c in filtered_candidates:\n",
    "    print(f\"✅ {c['name']:<20} | Tree Score: {round(c['total_score'] * 10 / 6, 2):>6} | \"\n",
    "          f\"Degree Score: {round(c['pagerank_score'], 2):>6} | \"\n",
    "          f\"Total Score: {round(c['total_score'], 2):>6}\")\n"
   ]
  },
  {
   "cell_type": "code",
   "execution_count": 23,
   "metadata": {},
   "outputs": [],
   "source": [
    "def run_pagerank():\n",
    "    query = \"\"\"\n",
    "    CALL gds.graph.project(\n",
    "        'myGraph',\n",
    "        ['Employee', 'Tool', 'Language', 'ProgramingLanguage', 'Cloud'],\n",
    "        '*'\n",
    "    );\n",
    "\n",
    "    CALL gds.pageRank.stream('myGraph')\n",
    "    YIELD nodeId, score\n",
    "    RETURN gds.util.asNode(nodeId).name AS name, score\n",
    "    ORDER BY score DESC\n",
    "    LIMIT 10\n",
    "    \"\"\"\n",
    "    \n",
    "    result = graph.run(query)\n",
    "    for record in result:\n",
    "        print(record[\"name\"], record[\"score\"])\n"
   ]
  },
  {
   "cell_type": "code",
   "execution_count": 24,
   "metadata": {},
   "outputs": [],
   "source": [
    "def describe_candidate(candidate, critical_nodes):\n",
    "    \"\"\"\n",
    "    Tạo mô tả về ứng viên dựa trên cây quan hệ của họ.\n",
    "    \"\"\"\n",
    "    tree = candidate['tree']\n",
    "    name = candidate['name']\n",
    "    description = [f\"Ứng viên {name} có các ưu điểm nổi bật như sau:\"]\n",
    "\n",
    "    def traverse_tree(node, subtree, parent=None):\n",
    "        \"\"\"\n",
    "        Duyệt qua cây để tạo mô tả.\n",
    "        \"\"\"\n",
    "        if parent:\n",
    "            # Mô tả quan hệ giữa parent và node\n",
    "            if node in critical_nodes:\n",
    "                description.append(f\"- {node} (critical node) là một điểm mạnh quan trọng, liên kết trực tiếp với {parent}.\")\n",
    "            else:\n",
    "                description.append(f\"- {node} là một kỹ năng/hệ thống liên kết với {parent}.\")\n",
    "        else:\n",
    "            # Node gốc (ứng viên)\n",
    "            description.append(f\"- {node} là ứng viên chính.\")\n",
    "\n",
    "        # Duyệt các node con\n",
    "        for child, child_subtree in subtree.items():\n",
    "            traverse_tree(child, child_subtree, node)\n",
    "\n",
    "    # Bắt đầu duyệt từ gốc cây\n",
    "    traverse_tree(name, tree[name])\n",
    "\n",
    "    return \"\\n\".join(description)"
   ]
  },
  {
   "cell_type": "code",
   "execution_count": 25,
   "metadata": {},
   "outputs": [
    {
     "name": "stdout",
     "output_type": "stream",
     "text": [
      "\n",
      "Mô tả ứng viên:\n",
      "Ứng viên Chu Ngoc M có các ưu điểm nổi bật như sau:\n",
      "- Chu Ngoc M là ứng viên chính.\n",
      "- Experienced in working with microservices là một kỹ năng/hệ thống liên kết với Chu Ngoc M.\n",
      "- Experienced in Software Engineering and DevOps workflows là một kỹ năng/hệ thống liên kết với Chu Ngoc M.\n",
      "- 3 years of experience in the Software Engineering là một kỹ năng/hệ thống liên kết với Chu Ngoc M.\n",
      "- Ruby Developer là một kỹ năng/hệ thống liên kết với Chu Ngoc M.\n",
      "- Docker là một kỹ năng/hệ thống liên kết với Ruby Developer.\n",
      "- USMH Monitoring là một kỹ năng/hệ thống liên kết với Chu Ngoc M.\n",
      "- PostgresSQL (critical node) là một điểm mạnh quan trọng, liên kết trực tiếp với USMH Monitoring.\n",
      "- CloudWatch là một kỹ năng/hệ thống liên kết với USMH Monitoring.\n",
      "- SPPL Microservices platform là một kỹ năng/hệ thống liên kết với Chu Ngoc M.\n",
      "- Azure là một kỹ năng/hệ thống liên kết với Chu Ngoc M.\n",
      "- AWS là một kỹ năng/hệ thống liên kết với Chu Ngoc M.\n",
      "- Linux là một kỹ năng/hệ thống liên kết với Chu Ngoc M.\n",
      "- Windows là một kỹ năng/hệ thống liên kết với Chu Ngoc M.\n",
      "- AWS CloudFormation là một kỹ năng/hệ thống liên kết với Chu Ngoc M.\n",
      "- Grafana là một kỹ năng/hệ thống liên kết với Chu Ngoc M.\n",
      "- Prometheus là một kỹ năng/hệ thống liên kết với Chu Ngoc M.\n",
      "- Bash Script là một kỹ năng/hệ thống liên kết với Chu Ngoc M.\n",
      "- English là một kỹ năng/hệ thống liên kết với Chu Ngoc M.\n",
      "- IELTS 6.5, Toeic: 785 (critical node) là một điểm mạnh quan trọng, liên kết trực tiếp với English.\n",
      "- Vietnamese là một kỹ năng/hệ thống liên kết với Chu Ngoc M.\n",
      "- Native là một kỹ năng/hệ thống liên kết với Vietnamese.\n",
      "- 4 year là một kỹ năng/hệ thống liên kết với Chu Ngoc M.\n",
      "- Viet Nam là một kỹ năng/hệ thống liên kết với Chu Ngoc M.\n",
      "\n",
      "--------------------------------------------------\n",
      "\n"
     ]
    }
   ],
   "source": [
    "# Danh sách critical nodes\n",
    "critical_nodes = ['IELTS 6.5, Toeic: 785', 'PostgresSQL']  # Thay đổi danh sách này nếu cần\n",
    "\n",
    "# Tạo mô tả cho từng ứng viên\n",
    "print(\"\\nMô tả ứng viên:\")\n",
    "for candidate in filtered_candidates:\n",
    "    description = describe_candidate(candidate, critical_nodes)\n",
    "    print(description)\n",
    "    print(\"\\n\" + \"-\" * 50 + \"\\n\")"
   ]
  }
 ],
 "metadata": {
  "kernelspec": {
   "display_name": "Python 3",
   "language": "python",
   "name": "python3"
  },
  "language_info": {
   "codemirror_mode": {
    "name": "ipython",
    "version": 3
   },
   "file_extension": ".py",
   "mimetype": "text/x-python",
   "name": "python",
   "nbconvert_exporter": "python",
   "pygments_lexer": "ipython3",
   "version": "3.13.2"
  }
 },
 "nbformat": 4,
 "nbformat_minor": 2
}
